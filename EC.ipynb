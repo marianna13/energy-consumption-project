{
 "cells": [
  {
   "cell_type": "markdown",
   "id": "be899046",
   "metadata": {},
   "source": [
    "# Energy Consumption Project"
   ]
  },
  {
   "cell_type": "markdown",
   "id": "da5e2814",
   "metadata": {},
   "source": [
    "This notebook shows how to predict energy consumption by a household using [Residential Energy Consumption Survey Dataset](https://www.eia.gov/consumption/residential/data/2015/) conducted by U.S. Energy Information Adminstration."
   ]
  },
  {
   "cell_type": "code",
   "execution_count": 118,
   "id": "69b6fbb8",
   "metadata": {},
   "outputs": [],
   "source": [
    "import pandas as pd\n",
    "import numpy as np\n",
    "import matplotlib.pyplot as plt\n",
    "from sklearn.model_selection import GridSearchCV\n",
    "from sklearn.model_selection import train_test_split\n",
    "import xgboost as xgb\n",
    "from sklearn.metrics import mean_squared_error\n",
    "from sklearn.multioutput import MultiOutputRegressor\n",
    "from sklearn.preprocessing import StandardScaler\n",
    "from sklearn.impute import SimpleImputer\n",
    "import warnings\n",
    "warnings.filterwarnings(\"ignore\")\n",
    "import seaborn as sns\n",
    "sns.set_theme()\n",
    "RANDOM_STATE = 0"
   ]
  },
  {
   "cell_type": "code",
   "execution_count": 119,
   "id": "d2d967ac",
   "metadata": {},
   "outputs": [
    {
     "name": "stdout",
     "output_type": "stream",
     "text": [
      "(5686, 759)\n"
     ]
    },
    {
     "data": {
      "text/html": [
       "<div>\n",
       "<style scoped>\n",
       "    .dataframe tbody tr th:only-of-type {\n",
       "        vertical-align: middle;\n",
       "    }\n",
       "\n",
       "    .dataframe tbody tr th {\n",
       "        vertical-align: top;\n",
       "    }\n",
       "\n",
       "    .dataframe thead th {\n",
       "        text-align: right;\n",
       "    }\n",
       "</style>\n",
       "<table border=\"1\" class=\"dataframe\">\n",
       "  <thead>\n",
       "    <tr style=\"text-align: right;\">\n",
       "      <th></th>\n",
       "      <th>DOEID</th>\n",
       "      <th>REGIONC</th>\n",
       "      <th>DIVISION</th>\n",
       "      <th>METROMICRO</th>\n",
       "      <th>UATYP10</th>\n",
       "      <th>TYPEHUQ</th>\n",
       "      <th>ZTYPEHUQ</th>\n",
       "      <th>CELLAR</th>\n",
       "      <th>ZCELLAR</th>\n",
       "      <th>BASEFIN</th>\n",
       "      <th>...</th>\n",
       "      <th>ZELAMOUNT</th>\n",
       "      <th>NGXBTU</th>\n",
       "      <th>PERIODNG</th>\n",
       "      <th>ZNGAMOUNT</th>\n",
       "      <th>FOXBTU</th>\n",
       "      <th>PERIODFO</th>\n",
       "      <th>ZFOAMOUNT</th>\n",
       "      <th>LPXBTU</th>\n",
       "      <th>PERIODLP</th>\n",
       "      <th>ZLPAMOUNT</th>\n",
       "    </tr>\n",
       "  </thead>\n",
       "  <tbody>\n",
       "    <tr>\n",
       "      <th>0</th>\n",
       "      <td>10001</td>\n",
       "      <td>4</td>\n",
       "      <td>10</td>\n",
       "      <td>METRO</td>\n",
       "      <td>U</td>\n",
       "      <td>2</td>\n",
       "      <td>0</td>\n",
       "      <td>0</td>\n",
       "      <td>0</td>\n",
       "      <td>-2</td>\n",
       "      <td>...</td>\n",
       "      <td>0</td>\n",
       "      <td>103.32</td>\n",
       "      <td>1</td>\n",
       "      <td>0</td>\n",
       "      <td>137.45</td>\n",
       "      <td>-2</td>\n",
       "      <td>-2</td>\n",
       "      <td>91.33</td>\n",
       "      <td>-2</td>\n",
       "      <td>-2</td>\n",
       "    </tr>\n",
       "    <tr>\n",
       "      <th>1</th>\n",
       "      <td>10002</td>\n",
       "      <td>3</td>\n",
       "      <td>7</td>\n",
       "      <td>NONE</td>\n",
       "      <td>R</td>\n",
       "      <td>2</td>\n",
       "      <td>0</td>\n",
       "      <td>0</td>\n",
       "      <td>0</td>\n",
       "      <td>-2</td>\n",
       "      <td>...</td>\n",
       "      <td>1</td>\n",
       "      <td>NaN</td>\n",
       "      <td>-2</td>\n",
       "      <td>-2</td>\n",
       "      <td>137.45</td>\n",
       "      <td>-2</td>\n",
       "      <td>-2</td>\n",
       "      <td>91.33</td>\n",
       "      <td>-2</td>\n",
       "      <td>-2</td>\n",
       "    </tr>\n",
       "    <tr>\n",
       "      <th>2</th>\n",
       "      <td>10003</td>\n",
       "      <td>3</td>\n",
       "      <td>6</td>\n",
       "      <td>METRO</td>\n",
       "      <td>U</td>\n",
       "      <td>2</td>\n",
       "      <td>0</td>\n",
       "      <td>1</td>\n",
       "      <td>0</td>\n",
       "      <td>1</td>\n",
       "      <td>...</td>\n",
       "      <td>0</td>\n",
       "      <td>100.14</td>\n",
       "      <td>1</td>\n",
       "      <td>0</td>\n",
       "      <td>137.45</td>\n",
       "      <td>-2</td>\n",
       "      <td>-2</td>\n",
       "      <td>91.33</td>\n",
       "      <td>-2</td>\n",
       "      <td>-2</td>\n",
       "    </tr>\n",
       "    <tr>\n",
       "      <th>3</th>\n",
       "      <td>10004</td>\n",
       "      <td>2</td>\n",
       "      <td>4</td>\n",
       "      <td>MICRO</td>\n",
       "      <td>C</td>\n",
       "      <td>2</td>\n",
       "      <td>0</td>\n",
       "      <td>1</td>\n",
       "      <td>0</td>\n",
       "      <td>1</td>\n",
       "      <td>...</td>\n",
       "      <td>0</td>\n",
       "      <td>NaN</td>\n",
       "      <td>-2</td>\n",
       "      <td>-2</td>\n",
       "      <td>137.45</td>\n",
       "      <td>-2</td>\n",
       "      <td>-2</td>\n",
       "      <td>91.33</td>\n",
       "      <td>2</td>\n",
       "      <td>0</td>\n",
       "    </tr>\n",
       "    <tr>\n",
       "      <th>4</th>\n",
       "      <td>10005</td>\n",
       "      <td>1</td>\n",
       "      <td>2</td>\n",
       "      <td>METRO</td>\n",
       "      <td>U</td>\n",
       "      <td>2</td>\n",
       "      <td>0</td>\n",
       "      <td>1</td>\n",
       "      <td>0</td>\n",
       "      <td>0</td>\n",
       "      <td>...</td>\n",
       "      <td>0</td>\n",
       "      <td>102.83</td>\n",
       "      <td>1</td>\n",
       "      <td>0</td>\n",
       "      <td>137.45</td>\n",
       "      <td>-2</td>\n",
       "      <td>-2</td>\n",
       "      <td>91.33</td>\n",
       "      <td>-2</td>\n",
       "      <td>-2</td>\n",
       "    </tr>\n",
       "  </tbody>\n",
       "</table>\n",
       "<p>5 rows × 759 columns</p>\n",
       "</div>"
      ],
      "text/plain": [
       "   DOEID  REGIONC  DIVISION METROMICRO UATYP10  TYPEHUQ  ZTYPEHUQ  CELLAR  \\\n",
       "0  10001        4        10      METRO       U        2         0       0   \n",
       "1  10002        3         7       NONE       R        2         0       0   \n",
       "2  10003        3         6      METRO       U        2         0       1   \n",
       "3  10004        2         4      MICRO       C        2         0       1   \n",
       "4  10005        1         2      METRO       U        2         0       1   \n",
       "\n",
       "   ZCELLAR  BASEFIN  ...  ZELAMOUNT  NGXBTU  PERIODNG  ZNGAMOUNT  FOXBTU  \\\n",
       "0        0       -2  ...          0  103.32         1          0  137.45   \n",
       "1        0       -2  ...          1     NaN        -2         -2  137.45   \n",
       "2        0        1  ...          0  100.14         1          0  137.45   \n",
       "3        0        1  ...          0     NaN        -2         -2  137.45   \n",
       "4        0        0  ...          0  102.83         1          0  137.45   \n",
       "\n",
       "   PERIODFO  ZFOAMOUNT  LPXBTU  PERIODLP  ZLPAMOUNT  \n",
       "0        -2         -2   91.33        -2         -2  \n",
       "1        -2         -2   91.33        -2         -2  \n",
       "2        -2         -2   91.33        -2         -2  \n",
       "3        -2         -2   91.33         2          0  \n",
       "4        -2         -2   91.33        -2         -2  \n",
       "\n",
       "[5 rows x 759 columns]"
      ]
     },
     "execution_count": 119,
     "metadata": {},
     "output_type": "execute_result"
    }
   ],
   "source": [
    "data = pd.read_csv('data/recs2015_public_v4.csv')\n",
    "print(data.shape)\n",
    "data.head()"
   ]
  },
  {
   "cell_type": "markdown",
   "id": "867c393b",
   "metadata": {},
   "source": [
    "As we see, there's 759 different features, such as DIVISION - region of US, TYPEHUQ - Type of Housing Unit, TOTROOMS - total number of rooms etc."
   ]
  },
  {
   "cell_type": "markdown",
   "id": "92b03413",
   "metadata": {},
   "source": [
    "# EDA"
   ]
  },
  {
   "cell_type": "code",
   "execution_count": 79,
   "id": "7404ffa7",
   "metadata": {},
   "outputs": [
    {
     "data": {
      "text/plain": [
       "Text(0, 0.5, 'MEAN TOTALBTU (Total Energy Consumption in BTU)')"
      ]
     },
     "execution_count": 79,
     "metadata": {},
     "output_type": "execute_result"
    },
    {
     "data": {
      "image/png": "[encoded data removed]",
      "text/plain": [
       "<Figure size 864x576 with 1 Axes>"
      ]
     },
     "metadata": {},
     "output_type": "display_data"
    }
   ],
   "source": [
    "year_ranges = {\n",
    "    '0': 'Before 1950',\n",
    "    '1': '1950 to 1959',\n",
    "    '2': '1960 to 1969',\n",
    "    '3': '1970 to 1979',\n",
    "    '4': '1980 to 1989',\n",
    "    '5': '1990 to 1999',\n",
    "    '6': '2000 to 2009',\n",
    "    '7': '2010 to 2015'\n",
    "}\n",
    "\n",
    "gouped_by_year = data.groupby('YEARMADERANGE')['TOTALBTU'].mean()\n",
    "gouped_by_year .plot(figsize=(12,8))\n",
    "plt.title('How energy consumption changes depending on the year range when home was built')\n",
    "labels = [year_ranges[str(i-1)] for i in gouped_by_year.index]\n",
    "plt.xticks(ticks=[i+1 for i in range(len(labels))],labels=labels)\n",
    "plt.xlabel('YEAR RANGE')\n",
    "plt.ylabel('MEAN TOTALBTU (Total Energy Consumption in BTU)')"
   ]
  },
  {
   "cell_type": "code",
   "execution_count": 80,
   "id": "8bd21520",
   "metadata": {},
   "outputs": [
    {
     "data": {
      "text/plain": [
       "Text(0, 0.5, 'Count')"
      ]
     },
     "execution_count": 80,
     "metadata": {},
     "output_type": "execute_result"
    },
    {
     "data": {
      "image/png": "[encoded data removed]",
      "text/plain": [
       "<Figure size 864x576 with 1 Axes>"
      ]
     },
     "metadata": {},
     "output_type": "display_data"
    }
   ],
   "source": [
    "data[data.YEARMADERANGE.isin([7,8])]['TOTALBTU'].hist(bins=40, figsize=(12,8))\n",
    "plt.title('Distribution of TOTALBTU (total energy consumption)')\n",
    "plt.xlabel('TOTALBTU (Total Energy Consumption in BTU)')\n",
    "plt.ylabel('Count')"
   ]
  },
  {
   "cell_type": "code",
   "execution_count": 81,
   "id": "1da96ebf",
   "metadata": {},
   "outputs": [
    {
     "data": {
      "text/plain": [
       "Text(0, 0.5, 'MEAN TOTALBTU (Total Energy Consumption in BTU)')"
      ]
     },
     "execution_count": 81,
     "metadata": {},
     "output_type": "execute_result"
    },
    {
     "data": {
      "image/png": "[encoded data removed]",
      "text/plain": [
       "<Figure size 864x576 with 1 Axes>"
      ]
     },
     "metadata": {},
     "output_type": "display_data"
    }
   ],
   "source": [
    "data.groupby('DIVISION')['TOTALBTU'].mean().plot(figsize=(12,8))\n",
    "plt.title('How energy consumption changes depending on the region')\n",
    "plt.xlabel('DIVISION (Geographic Region)')\n",
    "plt.ylabel('MEAN TOTALBTU (Total Energy Consumption in BTU)')"
   ]
  },
  {
   "cell_type": "markdown",
   "id": "0ff0e17c",
   "metadata": {},
   "source": [
    "# Feature Engineering"
   ]
  },
  {
   "cell_type": "markdown",
   "id": "fa47a949",
   "metadata": {},
   "source": [
    "Drop features with standard deviation less than 0.05"
   ]
  },
  {
   "cell_type": "code",
   "execution_count": 120,
   "id": "ef902f50",
   "metadata": {
    "scrolled": true
   },
   "outputs": [],
   "source": [
    "threshold = 0.05\n",
    "data = data.drop(data.std()[data.std() < threshold].index.values, axis=1)"
   ]
  },
  {
   "cell_type": "markdown",
   "id": "5eaec3ad",
   "metadata": {},
   "source": [
    "Add population of the region, unemployment rate and GDP. These three features may be important in energy consumption estimation."
   ]
  },
  {
   "cell_type": "code",
   "execution_count": 83,
   "id": "c520c1ff",
   "metadata": {},
   "outputs": [],
   "source": [
    "Unemployment_Rate = {\n",
    "    'New England':5.0,\n",
    "    'Middle Atlantic':5.3,\n",
    "    'East North Central':5.2,\n",
    "    'West North Central':4.0,\n",
    "    'South Atlantic':5.5,\n",
    "    'East South Central':5.9,\n",
    "    'West South Central':4.7,\n",
    "    'Mountain North':5.1,\n",
    "    'Mountain South':5.1,\n",
    "    'Pacific':6.0\n",
    "}"
   ]
  },
  {
   "cell_type": "code",
   "execution_count": 84,
   "id": "70cb234e",
   "metadata": {},
   "outputs": [],
   "source": [
    "GDP = {\n",
    "    'New England':1.0,\n",
    "    'Middle Atlantic':3.3,\n",
    "    'East North Central':2.5,\n",
    "    'West North Central':1.2,\n",
    "    'South Atlantic':3.9,\n",
    "    'East South Central':3.9,\n",
    "    'West South Central':3.9,\n",
    "    'Mountain North':0.6,\n",
    "    'Mountain South':2.1,\n",
    "    'Pacific':3.5\n",
    "}"
   ]
  },
  {
   "cell_type": "code",
   "execution_count": 85,
   "id": "1459ea42",
   "metadata": {},
   "outputs": [],
   "source": [
    "regions = {\n",
    "    'New England':['Connecticut', 'Maine', 'Massachusetts', 'New Hampshire', 'Rhode Island', 'Vermont'],\n",
    "    'Middle Atlantic':['New Jersey', 'New York', 'Pennsylvania'],\n",
    "    'East North Central':['Illinois', 'Indiana', 'Michigan', 'Ohio', 'Wisconsin'],\n",
    "    'West North Central':['Iowa, Kansas', 'Minnesota', 'Missouri', 'Nebraska', 'North Dakota', 'South Dakota'],\n",
    "    'South Atlantic':['Delaware','Florida', 'Georgia', 'Maryland', 'North Carolina', 'South Carolina', 'Virginia', 'Washington, D.C.','West Virginia'],\n",
    "    'East South Central': ['Alabama', 'Kentucky', 'Mississippi', 'Tennessee'],\n",
    "    'West South Central':['Arkansas', 'Louisiana', 'Oklahoma', 'Texas'],\n",
    "    'Mountain North':['Idaho', 'Montana', 'Wyoming'],\n",
    "    'Mountain South':['Arizona','New Mexico', 'Utah', 'Nevada', 'Colorado'],\n",
    "    'Pacific':['Alaska', 'California', 'Hawaii', 'Oregon', 'Washington']\n",
    "}\n",
    "states = {}\n",
    "\n",
    "for reg in regions.keys():\n",
    "    for state in regions[reg]:\n",
    "        states[state] = reg"
   ]
  },
  {
   "cell_type": "code",
   "execution_count": 121,
   "id": "8dafb3d5",
   "metadata": {},
   "outputs": [],
   "source": [
    "population = pd.read_csv('data/nst-est2019-alldata.csv')\n",
    "population['REGIONC'] = population['NAME'].apply(lambda n: states[n] if n in states.keys() else np.nan)\n",
    "population = population.dropna()\n",
    "pops = dict(population.groupby('REGIONC')['POPESTIMATE2015'].mean())\n",
    "data[\"POPULATION\"] = data['DIVISION'].apply(lambda i:list(pops.values())[int(i)-1])\n",
    "data[\"GDP\"] = data['DIVISION'].apply(lambda i:list(GDP.values())[int(i)-1])\n",
    "data[\"Unemployment_Rate\"] = data['DIVISION'].apply(lambda i:list(Unemployment_Rate.values())[int(i)-1])"
   ]
  },
  {
   "cell_type": "markdown",
   "id": "c5985b50",
   "metadata": {},
   "source": [
    "# Drop columns that we don't know"
   ]
  },
  {
   "cell_type": "code",
   "execution_count": 122,
   "id": "f334c74c",
   "metadata": {},
   "outputs": [],
   "source": [
    "cols_to_drop = ['CUFEETNG', 'MONEYPY']"
   ]
  },
  {
   "cell_type": "code",
   "execution_count": 123,
   "id": "e3140b89",
   "metadata": {},
   "outputs": [],
   "source": [
    "cols_to_drop.extend([col for col in list(data.columns) \n",
    "                     if (col.find('BTU')!=-1 and col!='TOTALBTU') \n",
    "                     or col.find('KWH')!=-1 \n",
    "                     or col.find('CUFEET')!=-1\n",
    "                     or (col.find('TOTAL')!=-1 and col!='TOTALBTU')\n",
    "                     or col.find('Z')==0])"
   ]
  },
  {
   "cell_type": "code",
   "execution_count": 124,
   "id": "87eaa64c",
   "metadata": {},
   "outputs": [],
   "source": [
    "data = data.drop(cols_to_drop, axis=1)"
   ]
  },
  {
   "cell_type": "markdown",
   "id": "831cbbb6",
   "metadata": {},
   "source": [
    "# Add a few new features"
   ]
  },
  {
   "cell_type": "code",
   "execution_count": 125,
   "id": "bad36371",
   "metadata": {},
   "outputs": [],
   "source": [
    "data['AVGROOMSQFT'] = data[\"TOTHSQFT\"]/data['TOTROOMS']\n",
    "data['PARTOFBEDROOMS'] = data['BEDROOMS']/data['TOTROOMS']\n",
    "data['BATHPERROOM'] = data['NCOMBATH']/data['TOTROOMS']\n",
    "data['WINPERROOM'] = data['WINDOWS']/data['TOTROOMS']\n",
    "data['NUMOFTOOLS'] = data['OVEN']+data['MICRO']+data['TOAST']+data['COFFEE']+data['CROCKPOT']+data['FOODPROC']+data['BLENDER']+data['DISHWASH']"
   ]
  },
  {
   "cell_type": "markdown",
   "id": "9b7cb222",
   "metadata": {},
   "source": [
    "# Keep only the data about houses built in the ranges 7 and 8"
   ]
  },
  {
   "cell_type": "code",
   "execution_count": 126,
   "id": "849c9ddc",
   "metadata": {},
   "outputs": [],
   "source": [
    "data = data[data.YEARMADERANGE.isin([7,8])]"
   ]
  },
  {
   "cell_type": "markdown",
   "id": "ad658004",
   "metadata": {},
   "source": [
    "# Create train/test and val splits"
   ]
  },
  {
   "cell_type": "code",
   "execution_count": 127,
   "id": "14b06853",
   "metadata": {},
   "outputs": [],
   "source": [
    "X_full = data.drop(['TOTALBTU'], axis=1)\n",
    "y_full = data[['TOTALBTU']]\n",
    "X, X_val, y, y_val = train_test_split(X_full, y_full, test_size=0.1, random_state=RANDOM_STATE)"
   ]
  },
  {
   "cell_type": "markdown",
   "id": "2c8c4098",
   "metadata": {},
   "source": [
    "# Impute NANs"
   ]
  },
  {
   "cell_type": "code",
   "execution_count": 128,
   "id": "2ecfbe48",
   "metadata": {},
   "outputs": [
    {
     "name": "stdout",
     "output_type": "stream",
     "text": [
      "(1017, 442)\n",
      "Number of columns with NAN: 298\n"
     ]
    }
   ],
   "source": [
    "features = list(X.columns)\n",
    "X = X.replace(-2, np.nan)\n",
    "print(X.shape)\n",
    "f_withna = dict(X.isna().sum())\n",
    "imp = SimpleImputer(missing_values=np.nan, strategy='most_frequent')\n",
    "X = imp.fit_transform(X)\n",
    "\n",
    "withna = list(f_withna.keys())\n",
    "f_tokeep = {k: v for k, v in f_withna.items() if v==0}\n",
    "print(f'Number of columns with NAN: {len(list(f_tokeep.keys()))}')"
   ]
  },
  {
   "cell_type": "code",
   "execution_count": 94,
   "id": "be28b58b",
   "metadata": {},
   "outputs": [
    {
     "data": {
      "text/plain": [
       "array([[12679, 1, 2, ..., 0.25, 10.25, 3],\n",
       "       [13600, 3, 5, ..., 0.2, 2.0, 4],\n",
       "       [12063, 3, 5, ..., 0.4, 8.2, 5],\n",
       "       ...,\n",
       "       [14100, 3, 5, ..., 0.3, 4.1, 5],\n",
       "       [12802, 3, 5, ..., 0.3, 4.2, 4],\n",
       "       [13324, 4, 10, ..., 0.2222222222222222, 4.666666666666667, 6]],\n",
       "      dtype=object)"
      ]
     },
     "execution_count": 94,
     "metadata": {},
     "output_type": "execute_result"
    }
   ],
   "source": [
    "X"
   ]
  },
  {
   "cell_type": "code",
   "execution_count": 129,
   "id": "b675ce04",
   "metadata": {},
   "outputs": [],
   "source": [
    "X = pd.DataFrame(X, columns=features)"
   ]
  },
  {
   "cell_type": "code",
   "execution_count": 130,
   "id": "47b9cdea",
   "metadata": {},
   "outputs": [],
   "source": [
    "cat_features = ['METROMICRO', 'UATYP10', 'CLIMATE_REGION_PUB', 'IECC_CLIMATE_PUB']\n",
    "num_features = [f for f in features if f not in cat_features]"
   ]
  },
  {
   "cell_type": "code",
   "execution_count": 131,
   "id": "8746aa03",
   "metadata": {},
   "outputs": [],
   "source": [
    "X[num_features] = X[num_features].astype(np.float32)"
   ]
  },
  {
   "cell_type": "code",
   "execution_count": 99,
   "id": "935accf9",
   "metadata": {},
   "outputs": [
    {
     "data": {
      "text/plain": [
       "DOEID             float32\n",
       "REGIONC           float32\n",
       "DIVISION          float32\n",
       "METROMICRO         object\n",
       "UATYP10            object\n",
       "                   ...   \n",
       "AVGROOMSQFT       float32\n",
       "PARTOFBEDROOMS    float32\n",
       "BATHPERROOM       float32\n",
       "WINPERROOM        float32\n",
       "NUMOFTOOLS        float32\n",
       "Length: 442, dtype: object"
      ]
     },
     "execution_count": 99,
     "metadata": {},
     "output_type": "execute_result"
    }
   ],
   "source": [
    "X.dtypes"
   ]
  },
  {
   "cell_type": "code",
   "execution_count": 132,
   "id": "6a7fae07",
   "metadata": {},
   "outputs": [],
   "source": [
    "X = pd.get_dummies(X)"
   ]
  },
  {
   "cell_type": "markdown",
   "id": "8fea7680",
   "metadata": {},
   "source": [
    "# Baseline - Linear Regression"
   ]
  },
  {
   "cell_type": "code",
   "execution_count": 146,
   "id": "11479d6b",
   "metadata": {},
   "outputs": [],
   "source": [
    "X_train, X_test, y_train, y_test = train_test_split(X, y, test_size=0.2, random_state=123)"
   ]
  },
  {
   "cell_type": "code",
   "execution_count": null,
   "id": "9246845c",
   "metadata": {},
   "outputs": [],
   "source": [
    "sc_X = StandardScaler()\n",
    "X_train = sc_X.fit_transform(X_train)\n",
    "X_test = sc_X.transform(X_test)"
   ]
  },
  {
   "cell_type": "code",
   "execution_count": 147,
   "id": "9c2965a9",
   "metadata": {},
   "outputs": [
    {
     "name": "stdout",
     "output_type": "stream",
     "text": [
      "(813, 460)\n",
      "(813, 170)\n",
      "RMSE: 11374.720159\n"
     ]
    }
   ],
   "source": [
    "from sklearn.linear_model import LinearRegression\n",
    "from sklearn.feature_selection import SelectKBest, f_regression\n",
    "select = SelectKBest(k=170, score_func=f_regression)\n",
    "select.fit(X_train, y_train)\n",
    "print(X_train.shape)\n",
    "X_train_ = select.transform(X_train)\n",
    "X_test_ = select.transform(X_test)\n",
    "print(X_train_.shape)\n",
    "\n",
    "lr = LinearRegression()\n",
    "lr.fit(X_train_,y_train)\n",
    "y_pred_lr = lr.predict(X_test_)\n",
    "rmse = np.sqrt(mean_squared_error(y_test, y_pred_lr))\n",
    "print(\"RMSE: %f\" % (rmse))"
   ]
  },
  {
   "cell_type": "markdown",
   "id": "92891a98",
   "metadata": {},
   "source": [
    "# Permutation Importance "
   ]
  },
  {
   "cell_type": "code",
   "execution_count": 135,
   "id": "ad51d319",
   "metadata": {},
   "outputs": [
    {
     "data": {
      "text/html": [
       "\n",
       "    <style>\n",
       "    table.eli5-weights tr:hover {\n",
       "        filter: brightness(85%);\n",
       "    }\n",
       "</style>\n",
       "\n",
       "\n",
       "\n",
       "    \n",
       "\n",
       "    \n",
       "\n",
       "    \n",
       "\n",
       "    \n",
       "\n",
       "    \n",
       "\n",
       "    \n",
       "\n",
       "\n",
       "    \n",
       "\n",
       "    \n",
       "\n",
       "    \n",
       "\n",
       "    \n",
       "\n",
       "    \n",
       "\n",
       "    \n",
       "\n",
       "\n",
       "    \n",
       "\n",
       "    \n",
       "\n",
       "    \n",
       "\n",
       "    \n",
       "\n",
       "    \n",
       "        <table class=\"eli5-weights eli5-feature-importances\" style=\"border-collapse: collapse; border: none; margin-top: 0em; table-layout: auto;\">\n",
       "    <thead>\n",
       "    <tr style=\"border: none;\">\n",
       "        <th style=\"padding: 0 1em 0 0.5em; text-align: right; border: none;\">Weight</th>\n",
       "        <th style=\"padding: 0 0.5em 0 0.5em; text-align: left; border: none;\">Feature</th>\n",
       "    </tr>\n",
       "    </thead>\n",
       "    <tbody>\n",
       "    \n",
       "        <tr style=\"background-color: hsl(120, 100.00%, 80.00%); border: none;\">\n",
       "            <td style=\"padding: 0 1em 0 0.5em; text-align: right; border: none;\">\n",
       "                10.3758\n",
       "                \n",
       "                    &plusmn; 1.9443\n",
       "                \n",
       "            </td>\n",
       "            <td style=\"padding: 0 0.5em 0 0.5em; text-align: left; border: none;\">\n",
       "                TOTHSQFT\n",
       "            </td>\n",
       "        </tr>\n",
       "    \n",
       "        <tr style=\"background-color: hsl(120, 100.00%, 81.67%); border: none;\">\n",
       "            <td style=\"padding: 0 1em 0 0.5em; text-align: right; border: none;\">\n",
       "                9.1639\n",
       "                \n",
       "                    &plusmn; 0.8553\n",
       "                \n",
       "            </td>\n",
       "            <td style=\"padding: 0 0.5em 0 0.5em; text-align: left; border: none;\">\n",
       "                TOTCSQFT\n",
       "            </td>\n",
       "        </tr>\n",
       "    \n",
       "        <tr style=\"background-color: hsl(120, 100.00%, 84.73%); border: none;\">\n",
       "            <td style=\"padding: 0 1em 0 0.5em; text-align: right; border: none;\">\n",
       "                7.0557\n",
       "                \n",
       "                    &plusmn; 0.4444\n",
       "                \n",
       "            </td>\n",
       "            <td style=\"padding: 0 0.5em 0 0.5em; text-align: left; border: none;\">\n",
       "                DOLLARNG\n",
       "            </td>\n",
       "        </tr>\n",
       "    \n",
       "        <tr style=\"background-color: hsl(120, 100.00%, 86.50%); border: none;\">\n",
       "            <td style=\"padding: 0 1em 0 0.5em; text-align: right; border: none;\">\n",
       "                5.9185\n",
       "                \n",
       "                    &plusmn; 0.4728\n",
       "                \n",
       "            </td>\n",
       "            <td style=\"padding: 0 0.5em 0 0.5em; text-align: left; border: none;\">\n",
       "                DOLNGSPH\n",
       "            </td>\n",
       "        </tr>\n",
       "    \n",
       "        <tr style=\"background-color: hsl(120, 100.00%, 88.58%); border: none;\">\n",
       "            <td style=\"padding: 0 1em 0 0.5em; text-align: right; border: none;\">\n",
       "                4.6588\n",
       "                \n",
       "                    &plusmn; 0.2977\n",
       "                \n",
       "            </td>\n",
       "            <td style=\"padding: 0 0.5em 0 0.5em; text-align: left; border: none;\">\n",
       "                TOTUCSQFT\n",
       "            </td>\n",
       "        </tr>\n",
       "    \n",
       "        <tr style=\"background-color: hsl(120, 100.00%, 90.62%); border: none;\">\n",
       "            <td style=\"padding: 0 1em 0 0.5em; text-align: right; border: none;\">\n",
       "                3.5156\n",
       "                \n",
       "                    &plusmn; 0.2676\n",
       "                \n",
       "            </td>\n",
       "            <td style=\"padding: 0 0.5em 0 0.5em; text-align: left; border: none;\">\n",
       "                TOTUSQFT\n",
       "            </td>\n",
       "        </tr>\n",
       "    \n",
       "        <tr style=\"background-color: hsl(120, 100.00%, 95.39%); border: none;\">\n",
       "            <td style=\"padding: 0 1em 0 0.5em; text-align: right; border: none;\">\n",
       "                1.2756\n",
       "                \n",
       "                    &plusmn; 0.1996\n",
       "                \n",
       "            </td>\n",
       "            <td style=\"padding: 0 0.5em 0 0.5em; text-align: left; border: none;\">\n",
       "                DOLNGWTH\n",
       "            </td>\n",
       "        </tr>\n",
       "    \n",
       "        <tr style=\"background-color: hsl(120, 100.00%, 97.57%); border: none;\">\n",
       "            <td style=\"padding: 0 1em 0 0.5em; text-align: right; border: none;\">\n",
       "                0.5104\n",
       "                \n",
       "                    &plusmn; 0.0399\n",
       "                \n",
       "            </td>\n",
       "            <td style=\"padding: 0 0.5em 0 0.5em; text-align: left; border: none;\">\n",
       "                DOLNGNEC\n",
       "            </td>\n",
       "        </tr>\n",
       "    \n",
       "        <tr style=\"background-color: hsl(120, 100.00%, 97.71%); border: none;\">\n",
       "            <td style=\"padding: 0 1em 0 0.5em; text-align: right; border: none;\">\n",
       "                0.4700\n",
       "                \n",
       "                    &plusmn; 0.0696\n",
       "                \n",
       "            </td>\n",
       "            <td style=\"padding: 0 0.5em 0 0.5em; text-align: left; border: none;\">\n",
       "                GALLONLP\n",
       "            </td>\n",
       "        </tr>\n",
       "    \n",
       "        <tr style=\"background-color: hsl(120, 100.00%, 97.76%); border: none;\">\n",
       "            <td style=\"padding: 0 1em 0 0.5em; text-align: right; border: none;\">\n",
       "                0.4559\n",
       "                \n",
       "                    &plusmn; 0.0381\n",
       "                \n",
       "            </td>\n",
       "            <td style=\"padding: 0 0.5em 0 0.5em; text-align: left; border: none;\">\n",
       "                DOLLAREL\n",
       "            </td>\n",
       "        </tr>\n",
       "    \n",
       "        <tr style=\"background-color: hsl(120, 100.00%, 97.93%); border: none;\">\n",
       "            <td style=\"padding: 0 1em 0 0.5em; text-align: right; border: none;\">\n",
       "                0.4065\n",
       "                \n",
       "                    &plusmn; 0.0618\n",
       "                \n",
       "            </td>\n",
       "            <td style=\"padding: 0 0.5em 0 0.5em; text-align: left; border: none;\">\n",
       "                DOLLARFO\n",
       "            </td>\n",
       "        </tr>\n",
       "    \n",
       "        <tr style=\"background-color: hsl(120, 100.00%, 98.52%); border: none;\">\n",
       "            <td style=\"padding: 0 1em 0 0.5em; text-align: right; border: none;\">\n",
       "                0.2527\n",
       "                \n",
       "                    &plusmn; 0.0343\n",
       "                \n",
       "            </td>\n",
       "            <td style=\"padding: 0 0.5em 0 0.5em; text-align: left; border: none;\">\n",
       "                DOLNGPLHEAT\n",
       "            </td>\n",
       "        </tr>\n",
       "    \n",
       "        <tr style=\"background-color: hsl(120, 100.00%, 98.54%); border: none;\">\n",
       "            <td style=\"padding: 0 1em 0 0.5em; text-align: right; border: none;\">\n",
       "                0.2463\n",
       "                \n",
       "                    &plusmn; 0.0335\n",
       "                \n",
       "            </td>\n",
       "            <td style=\"padding: 0 0.5em 0 0.5em; text-align: left; border: none;\">\n",
       "                DOLFOSPH\n",
       "            </td>\n",
       "        </tr>\n",
       "    \n",
       "        <tr style=\"background-color: hsl(120, 100.00%, 98.56%); border: none;\">\n",
       "            <td style=\"padding: 0 1em 0 0.5em; text-align: right; border: none;\">\n",
       "                0.2412\n",
       "                \n",
       "                    &plusmn; 0.0280\n",
       "                \n",
       "            </td>\n",
       "            <td style=\"padding: 0 0.5em 0 0.5em; text-align: left; border: none;\">\n",
       "                GALLONFOSPH\n",
       "            </td>\n",
       "        </tr>\n",
       "    \n",
       "        <tr style=\"background-color: hsl(120, 100.00%, 98.80%); border: none;\">\n",
       "            <td style=\"padding: 0 1em 0 0.5em; text-align: right; border: none;\">\n",
       "                0.1858\n",
       "                \n",
       "                    &plusmn; 0.0188\n",
       "                \n",
       "            </td>\n",
       "            <td style=\"padding: 0 0.5em 0 0.5em; text-align: left; border: none;\">\n",
       "                DOLLARLP\n",
       "            </td>\n",
       "        </tr>\n",
       "    \n",
       "        <tr style=\"background-color: hsl(120, 100.00%, 99.04%); border: none;\">\n",
       "            <td style=\"padding: 0 1em 0 0.5em; text-align: right; border: none;\">\n",
       "                0.1358\n",
       "                \n",
       "                    &plusmn; 0.0310\n",
       "                \n",
       "            </td>\n",
       "            <td style=\"padding: 0 0.5em 0 0.5em; text-align: left; border: none;\">\n",
       "                UGWATER\n",
       "            </td>\n",
       "        </tr>\n",
       "    \n",
       "        <tr style=\"background-color: hsl(120, 100.00%, 99.06%); border: none;\">\n",
       "            <td style=\"padding: 0 1em 0 0.5em; text-align: right; border: none;\">\n",
       "                0.1314\n",
       "                \n",
       "                    &plusmn; 0.0115\n",
       "                \n",
       "            </td>\n",
       "            <td style=\"padding: 0 0.5em 0 0.5em; text-align: left; border: none;\">\n",
       "                DOLLPSPH\n",
       "            </td>\n",
       "        </tr>\n",
       "    \n",
       "        <tr style=\"background-color: hsl(120, 100.00%, 99.24%); border: none;\">\n",
       "            <td style=\"padding: 0 1em 0 0.5em; text-align: right; border: none;\">\n",
       "                0.0964\n",
       "                \n",
       "                    &plusmn; 0.0104\n",
       "                \n",
       "            </td>\n",
       "            <td style=\"padding: 0 0.5em 0 0.5em; text-align: left; border: none;\">\n",
       "                GALLONFO\n",
       "            </td>\n",
       "        </tr>\n",
       "    \n",
       "        <tr style=\"background-color: hsl(120, 100.00%, 99.30%); border: none;\">\n",
       "            <td style=\"padding: 0 1em 0 0.5em; text-align: right; border: none;\">\n",
       "                0.0856\n",
       "                \n",
       "                    &plusmn; 0.0189\n",
       "                \n",
       "            </td>\n",
       "            <td style=\"padding: 0 0.5em 0 0.5em; text-align: left; border: none;\">\n",
       "                HDD30YR\n",
       "            </td>\n",
       "        </tr>\n",
       "    \n",
       "        <tr style=\"background-color: hsl(120, 100.00%, 99.33%); border: none;\">\n",
       "            <td style=\"padding: 0 1em 0 0.5em; text-align: right; border: none;\">\n",
       "                0.0810\n",
       "                \n",
       "                    &plusmn; 0.0184\n",
       "                \n",
       "            </td>\n",
       "            <td style=\"padding: 0 0.5em 0 0.5em; text-align: left; border: none;\">\n",
       "                GWT\n",
       "            </td>\n",
       "        </tr>\n",
       "    \n",
       "    \n",
       "        \n",
       "            <tr style=\"background-color: hsl(120, 100.00%, 99.33%); border: none;\">\n",
       "                <td colspan=\"2\" style=\"padding: 0 0.5em 0 0.5em; text-align: center; border: none; white-space: nowrap;\">\n",
       "                    <i>&hellip; 150 more &hellip;</i>\n",
       "                </td>\n",
       "            </tr>\n",
       "        \n",
       "    \n",
       "    </tbody>\n",
       "</table>\n",
       "    \n",
       "\n",
       "    \n",
       "\n",
       "\n",
       "    \n",
       "\n",
       "    \n",
       "\n",
       "    \n",
       "\n",
       "    \n",
       "\n",
       "    \n",
       "\n",
       "    \n",
       "\n",
       "\n",
       "\n"
      ],
      "text/plain": [
       "<IPython.core.display.HTML object>"
      ]
     },
     "execution_count": 135,
     "metadata": {},
     "output_type": "execute_result"
    }
   ],
   "source": [
    "# pip install eli5\n",
    "import eli5\n",
    "from eli5.sklearn import PermutationImportance\n",
    "\n",
    "perm = PermutationImportance(lr, random_state=1).fit(X_test_, y_test)\n",
    "eli5.show_weights(perm, feature_names = select.get_feature_names_out())"
   ]
  },
  {
   "cell_type": "code",
   "execution_count": 136,
   "id": "7596af79",
   "metadata": {
    "scrolled": true
   },
   "outputs": [
    {
     "data": {
      "text/html": [
       "<div>\n",
       "<style scoped>\n",
       "    .dataframe tbody tr th:only-of-type {\n",
       "        vertical-align: middle;\n",
       "    }\n",
       "\n",
       "    .dataframe tbody tr th {\n",
       "        vertical-align: top;\n",
       "    }\n",
       "\n",
       "    .dataframe thead th {\n",
       "        text-align: right;\n",
       "    }\n",
       "</style>\n",
       "<table border=\"1\" class=\"dataframe\">\n",
       "  <thead>\n",
       "    <tr style=\"text-align: right;\">\n",
       "      <th></th>\n",
       "      <th>feature_names</th>\n",
       "      <th>feat_imp</th>\n",
       "      <th>std</th>\n",
       "    </tr>\n",
       "  </thead>\n",
       "  <tbody>\n",
       "    <tr>\n",
       "      <th>106</th>\n",
       "      <td>TOTHSQFT</td>\n",
       "      <td>10.3758</td>\n",
       "      <td>0.9721</td>\n",
       "    </tr>\n",
       "    <tr>\n",
       "      <th>105</th>\n",
       "      <td>TOTCSQFT</td>\n",
       "      <td>9.1639</td>\n",
       "      <td>0.4277</td>\n",
       "    </tr>\n",
       "    <tr>\n",
       "      <th>143</th>\n",
       "      <td>DOLLARNG</td>\n",
       "      <td>7.0557</td>\n",
       "      <td>0.2222</td>\n",
       "    </tr>\n",
       "    <tr>\n",
       "      <th>144</th>\n",
       "      <td>DOLNGSPH</td>\n",
       "      <td>5.9185</td>\n",
       "      <td>0.2364</td>\n",
       "    </tr>\n",
       "    <tr>\n",
       "      <th>108</th>\n",
       "      <td>TOTUCSQFT</td>\n",
       "      <td>4.6588</td>\n",
       "      <td>0.1488</td>\n",
       "    </tr>\n",
       "    <tr>\n",
       "      <th>...</th>\n",
       "      <td>...</td>\n",
       "      <td>...</td>\n",
       "      <td>...</td>\n",
       "    </tr>\n",
       "    <tr>\n",
       "      <th>42</th>\n",
       "      <td>AGEDW</td>\n",
       "      <td>-0.0006</td>\n",
       "      <td>0.0004</td>\n",
       "    </tr>\n",
       "    <tr>\n",
       "      <th>32</th>\n",
       "      <td>OVENUSE</td>\n",
       "      <td>-0.0009</td>\n",
       "      <td>0.0004</td>\n",
       "    </tr>\n",
       "    <tr>\n",
       "      <th>17</th>\n",
       "      <td>MONPOOL</td>\n",
       "      <td>-0.0010</td>\n",
       "      <td>0.0003</td>\n",
       "    </tr>\n",
       "    <tr>\n",
       "      <th>12</th>\n",
       "      <td>HIGHCEIL</td>\n",
       "      <td>-0.0017</td>\n",
       "      <td>0.0010</td>\n",
       "    </tr>\n",
       "    <tr>\n",
       "      <th>27</th>\n",
       "      <td>LOCRFRI2</td>\n",
       "      <td>-0.0019</td>\n",
       "      <td>0.0007</td>\n",
       "    </tr>\n",
       "  </tbody>\n",
       "</table>\n",
       "<p>170 rows × 3 columns</p>\n",
       "</div>"
      ],
      "text/plain": [
       "    feature_names  feat_imp     std\n",
       "106      TOTHSQFT   10.3758  0.9721\n",
       "105      TOTCSQFT    9.1639  0.4277\n",
       "143      DOLLARNG    7.0557  0.2222\n",
       "144      DOLNGSPH    5.9185  0.2364\n",
       "108     TOTUCSQFT    4.6588  0.1488\n",
       "..            ...       ...     ...\n",
       "42          AGEDW   -0.0006  0.0004\n",
       "32        OVENUSE   -0.0009  0.0004\n",
       "17        MONPOOL   -0.0010  0.0003\n",
       "12       HIGHCEIL   -0.0017  0.0010\n",
       "27       LOCRFRI2   -0.0019  0.0007\n",
       "\n",
       "[170 rows x 3 columns]"
      ]
     },
     "execution_count": 136,
     "metadata": {},
     "output_type": "execute_result"
    }
   ],
   "source": [
    "df_fi = pd.DataFrame(dict(feature_names=select.get_feature_names_out(),\n",
    "                          feat_imp=perm.feature_importances_, \n",
    "                          std=perm.feature_importances_std_,\n",
    "                          ))\n",
    "df_fi = df_fi.round(4)\n",
    "df_fi.sort_values('feat_imp', ascending=False)"
   ]
  },
  {
   "cell_type": "markdown",
   "id": "a6e8fd24",
   "metadata": {},
   "source": [
    "# Leave only the important features"
   ]
  },
  {
   "cell_type": "code",
   "execution_count": 137,
   "id": "8cafbb47",
   "metadata": {},
   "outputs": [
    {
     "name": "stdout",
     "output_type": "stream",
     "text": [
      "Using 123 features\n"
     ]
    }
   ],
   "source": [
    "imp_fs = list(df_fi[df_fi['feat_imp']>0]['feature_names'].values)\n",
    "print(f'Using {len(imp_fs)} features')"
   ]
  },
  {
   "cell_type": "code",
   "execution_count": 151,
   "id": "bf9238bd",
   "metadata": {},
   "outputs": [
    {
     "name": "stdout",
     "output_type": "stream",
     "text": [
      "RMSE: 10537.574399\n"
     ]
    }
   ],
   "source": [
    "\n",
    "X_train_ = X_train[select.get_feature_names_out()][imp_fs]\n",
    "X_test_ = X_test[select.get_feature_names_out()][imp_fs]\n",
    "lr = LinearRegression()\n",
    "lr.fit(X_train_,y_train)\n",
    "y_pred_lr = lr.predict(X_test_)\n",
    "rmse = np.sqrt(mean_squared_error(y_test, y_pred_lr))\n",
    "print(\"RMSE: %f\" % (rmse))"
   ]
  },
  {
   "cell_type": "markdown",
   "id": "eaf17016",
   "metadata": {},
   "source": [
    "# XGBoost"
   ]
  },
  {
   "cell_type": "code",
   "execution_count": 152,
   "id": "70d857d6",
   "metadata": {
    "scrolled": false
   },
   "outputs": [
    {
     "name": "stdout",
     "output_type": "stream",
     "text": [
      "[13:56:15] WARNING: C:/Users/Administrator/workspace/xgboost-win64_release_1.6.0/src/learner.cc:627: \n",
      "Parameters: { \"gamma\" } might not be used.\n",
      "\n",
      "  This could be a false alarm, with some parameters getting used by language bindings but\n",
      "  then being mistakenly passed down to XGBoost core, or some parameter actually being used\n",
      "  but getting flagged wrongly here. Please open an issue if you find any such cases.\n",
      "\n",
      "\n",
      "RMSE: 10230.905459\n"
     ]
    }
   ],
   "source": [
    "from xgboost import XGBRegressor\n",
    "\n",
    "regr = XGBRegressor(booster='gblinear', n_estimators=870, seed=0, learning_rate=0.1, gamma=1., random_state=RANDOM_STATE).fit(X_train_, y_train)\n",
    "y_pred_ridge = regr.predict(X_test_)\n",
    "rmse = np.sqrt(mean_squared_error(y_test, y_pred_ridge))\n",
    "print(\"RMSE: %f\" % (rmse))"
   ]
  },
  {
   "cell_type": "markdown",
   "id": "d28647b0",
   "metadata": {},
   "source": [
    "# Hyperparameter Tuning"
   ]
  },
  {
   "cell_type": "code",
   "execution_count": 153,
   "id": "34426746",
   "metadata": {},
   "outputs": [],
   "source": [
    "hyperparameter_grid = {\n",
    "    'n_estimators': [700, 800, 900],\n",
    "    'max_depth': [2, 5, 10],\n",
    "    'learning_rate': [0.1, 0.3, 0.5],\n",
    "    'min_child_weight': [1, 2, 3, 4],\n",
    "    'random_state':[RANDOM_STATE]\n",
    "    }"
   ]
  },
  {
   "cell_type": "code",
   "execution_count": 154,
   "id": "7a205f2b",
   "metadata": {},
   "outputs": [
    {
     "name": "stdout",
     "output_type": "stream",
     "text": [
      "Fitting 3 folds for each of 108 candidates, totalling 324 fits\n",
      "[13:58:37] WARNING: C:/Users/Administrator/workspace/xgboost-win64_release_1.6.0/src/learner.cc:627: \n",
      "Parameters: { \"gamma\", \"max_depth\", \"min_child_weight\" } might not be used.\n",
      "\n",
      "  This could be a false alarm, with some parameters getting used by language bindings but\n",
      "  then being mistakenly passed down to XGBoost core, or some parameter actually being used\n",
      "  but getting flagged wrongly here. Please open an issue if you find any such cases.\n",
      "\n",
      "\n"
     ]
    },
    {
     "data": {
      "text/plain": [
       "GridSearchCV(cv=3,\n",
       "             estimator=XGBRegressor(base_score=0.5, booster='gblinear',\n",
       "                                    callbacks=None, colsample_bylevel=None,\n",
       "                                    colsample_bynode=None,\n",
       "                                    colsample_bytree=None,\n",
       "                                    early_stopping_rounds=None,\n",
       "                                    enable_categorical=False, eval_metric=None,\n",
       "                                    gamma=1.0, gpu_id=-1, grow_policy=None,\n",
       "                                    importance_type=None,\n",
       "                                    interaction_constraints=None,\n",
       "                                    learning_rate=0.1, max_bin=None,\n",
       "                                    max_ca...\n",
       "                                    monotone_constraints=None, n_estimators=870,\n",
       "                                    n_jobs=0, num_parallel_tree=None,\n",
       "                                    predictor=None, random_state=0, reg_alpha=0,\n",
       "                                    reg_lambda=0, ...),\n",
       "             n_jobs=4,\n",
       "             param_grid={'learning_rate': [0.1, 0.3, 0.5],\n",
       "                         'max_depth': [2, 5, 10],\n",
       "                         'min_child_weight': [1, 2, 3, 4],\n",
       "                         'n_estimators': [700, 800, 900], 'random_state': [0]},\n",
       "             return_train_score=True, scoring='neg_mean_squared_error',\n",
       "             verbose=2)"
      ]
     },
     "execution_count": 154,
     "metadata": {},
     "output_type": "execute_result"
    }
   ],
   "source": [
    "grid_cv = GridSearchCV(estimator=regr,\n",
    "            param_grid=hyperparameter_grid,\n",
    "            cv=3, \n",
    "            scoring = 'neg_mean_squared_error',n_jobs = 4,\n",
    "            verbose = 2, \n",
    "            return_train_score = True)\n",
    "\n",
    "grid_cv.fit(X_train_,y_train)"
   ]
  },
  {
   "cell_type": "code",
   "execution_count": 156,
   "id": "45f37da3",
   "metadata": {},
   "outputs": [
    {
     "name": "stdout",
     "output_type": "stream",
     "text": [
      "[13:59:03] WARNING: C:/Users/Administrator/workspace/xgboost-win64_release_1.6.0/src/learner.cc:627: \n",
      "Parameters: { \"max_depth\", \"min_child_weight\" } might not be used.\n",
      "\n",
      "  This could be a false alarm, with some parameters getting used by language bindings but\n",
      "  then being mistakenly passed down to XGBoost core, or some parameter actually being used\n",
      "  but getting flagged wrongly here. Please open an issue if you find any such cases.\n",
      "\n",
      "\n",
      "RMSE: 10232.773881\n"
     ]
    }
   ],
   "source": [
    "regr = XGBRegressor(booster='gblinear', **grid_cv.best_params_).fit(X_train_, y_train)\n",
    "y_pred_xgb = regr.predict(X_test_)\n",
    "rmse = np.sqrt(mean_squared_error(y_test, y_pred_xgb))\n",
    "print(\"RMSE: %f\" % (rmse))"
   ]
  },
  {
   "cell_type": "code",
   "execution_count": 160,
   "id": "53349a79",
   "metadata": {},
   "outputs": [
    {
     "data": {
      "text/plain": [
       "((813, 460), (114, 442))"
      ]
     },
     "execution_count": 160,
     "metadata": {},
     "output_type": "execute_result"
    }
   ],
   "source": [
    "X_train.shape, X_val.shape"
   ]
  },
  {
   "cell_type": "markdown",
   "id": "49e40549",
   "metadata": {},
   "source": [
    "# Inference on Val set"
   ]
  },
  {
   "cell_type": "code",
   "execution_count": 172,
   "id": "9a9d611a",
   "metadata": {},
   "outputs": [
    {
     "name": "stdout",
     "output_type": "stream",
     "text": [
      "RMSE: 11426.843288\n"
     ]
    }
   ],
   "source": [
    "X_val_ = X_val.replace(-2, np.nan)\n",
    "X_val_ = imp.transform(X_val_)\n",
    "X_val_ = pd.DataFrame(X_val_, columns=features)\n",
    "X_val_[num_features] = X_val_[num_features].astype(np.float32)\n",
    "X_val_ = pd.get_dummies(X_val_)\n",
    "X_val_ = X_val_[select.get_feature_names_out()][imp_fs]\n",
    "y_pred_xgb = regr.predict(X_val_)\n",
    "rmse = np.sqrt(mean_squared_error(y_val, y_pred_xgb))\n",
    "print(\"RMSE: %f\" % (rmse))"
   ]
  },
  {
   "cell_type": "markdown",
   "id": "9ffc957a",
   "metadata": {},
   "source": [
    "# References"
   ]
  },
  {
   "cell_type": "markdown",
   "id": "27adc868",
   "metadata": {},
   "source": [
    "- [Residential Energy Consumption Survey Dataset](https://www.eia.gov/consumption/residential/data/2015/)\n",
    "- [Factors Influencing Energy Consumption in the Context of Sustainable Development](https://www.mdpi.com/2071-1050/11/15/4147/pdf)\n",
    "- [Factors affecting electricity consumption of residential consumers in Cambodia](https://iopscience.iop.org/article/10.1088/1755-1315/746/1/012034/pdf)"
   ]
  }
 ],
 "metadata": {
  "kernelspec": {
   "display_name": "Python 3 (ipykernel)",
   "language": "python",
   "name": "python3"
  },
  "language_info": {
   "codemirror_mode": {
    "name": "ipython",
    "version": 3
   },
   "file_extension": ".py",
   "mimetype": "text/x-python",
   "name": "python",
   "nbconvert_exporter": "python",
   "pygments_lexer": "ipython3",
   "version": "3.8.10"
  }
 },
 "nbformat": 4,
 "nbformat_minor": 5
}
